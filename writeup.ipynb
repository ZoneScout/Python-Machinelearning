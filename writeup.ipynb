{
 "cells": [
  {
   "cell_type": "markdown",
   "id": "3da0b8be",
   "metadata": {},
   "source": [
    "Classification model: ResNET50-CNN classification\n",
    "\n",
    "data preprocessing: \n",
    "1. data augumentation. (vertical flip, horizontal flip)\n",
    "2. data resize to (112, 224)\n",
    "3. 8:2 train-validation split\n",
    "\n"
   ]
  },
  {
   "cell_type": "markdown",
   "id": "cfb839fc",
   "metadata": {},
   "source": [
    "Used models.resnet50(pretrained=True).\n",
    "\n",
    "\n",
    "Fully connected layers: \n",
    "\n",
    "nn.Linear(2048, 512),\n",
    "\n",
    "nn.ReLU(inplace=True),\n",
    "\n",
    "nn.Linear(512, 128),\n",
    "\n",
    "nn.ReLU(inplace=True),\n",
    "\n",
    "nn.Linear(128, 22)"
   ]
  },
  {
   "cell_type": "markdown",
   "id": "43217796",
   "metadata": {},
   "source": [
    "Loss function: nn.CrossEntropyLoss()\n",
    "\n",
    "optimizer: optim.Adam, learning rate = 0.001\n",
    "\n",
    "epochs = 20\n",
    "\n",
    "training_loss = 0.0546, validation_loss = 0.0505\n",
    "\n",
    "training_accuracy = 0.9962, validation_accuracy = 1.0, testing_accuracy = 0.7408"
   ]
  }
 ],
 "metadata": {
  "kernelspec": {
   "display_name": "Python 3 (ipykernel)",
   "language": "python",
   "name": "python3"
  },
  "language_info": {
   "codemirror_mode": {
    "name": "ipython",
    "version": 3
   },
   "file_extension": ".py",
   "mimetype": "text/x-python",
   "name": "python",
   "nbconvert_exporter": "python",
   "pygments_lexer": "ipython3",
   "version": "3.8.12"
  }
 },
 "nbformat": 4,
 "nbformat_minor": 5
}
